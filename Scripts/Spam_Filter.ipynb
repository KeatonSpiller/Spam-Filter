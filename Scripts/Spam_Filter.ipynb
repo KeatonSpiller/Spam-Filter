{
 "cells": [
  {
   "cell_type": "markdown",
   "metadata": {},
   "source": [
    "Keaton Spiller \n",
    "\n",
    "Naive Bayes Classifier - Email Spam Filter\n",
    "\n",
    "Showcase Project"
   ]
  },
  {
   "cell_type": "code",
   "execution_count": 1,
   "metadata": {},
   "outputs": [],
   "source": [
    "import pandas as pd\n",
    "import numpy as np\n",
    "from sklearn.model_selection import train_test_split\n",
    "import math\n",
    "from bayesian_tools import read_file, split_data, Prior_Bayes, Naive_Bayes, confusion_matrix_plot"
   ]
  },
  {
   "cell_type": "code",
   "execution_count": 2,
   "metadata": {},
   "outputs": [
    {
     "name": "stdout",
     "output_type": "stream",
     "text": [
      "(4601, 58)\n"
     ]
    },
    {
     "data": {
      "text/html": [
       "<div>\n",
       "<style scoped>\n",
       "    .dataframe tbody tr th:only-of-type {\n",
       "        vertical-align: middle;\n",
       "    }\n",
       "\n",
       "    .dataframe tbody tr th {\n",
       "        vertical-align: top;\n",
       "    }\n",
       "\n",
       "    .dataframe thead th {\n",
       "        text-align: right;\n",
       "    }\n",
       "</style>\n",
       "<table border=\"1\" class=\"dataframe\">\n",
       "  <thead>\n",
       "    <tr style=\"text-align: right;\">\n",
       "      <th></th>\n",
       "      <th>word_freq_make</th>\n",
       "      <th>word_freq_address</th>\n",
       "      <th>word_freq_all</th>\n",
       "      <th>word_freq_3d</th>\n",
       "      <th>word_freq_our</th>\n",
       "      <th>word_freq_over</th>\n",
       "      <th>word_freq_remove</th>\n",
       "      <th>word_freq_internet</th>\n",
       "      <th>word_freq_order</th>\n",
       "      <th>word_freq_mail</th>\n",
       "      <th>...</th>\n",
       "      <th>char_freq_;</th>\n",
       "      <th>char_freq_(</th>\n",
       "      <th>char_freq_[</th>\n",
       "      <th>char_freq_!</th>\n",
       "      <th>char_freq_$</th>\n",
       "      <th>char_freq_#</th>\n",
       "      <th>capital_run_length_average</th>\n",
       "      <th>capital_run_length_longest</th>\n",
       "      <th>capital_run_length_total</th>\n",
       "      <th>target</th>\n",
       "    </tr>\n",
       "  </thead>\n",
       "  <tbody>\n",
       "    <tr>\n",
       "      <th>0</th>\n",
       "      <td>0.08</td>\n",
       "      <td>0.08</td>\n",
       "      <td>0.76</td>\n",
       "      <td>0.0</td>\n",
       "      <td>0.85</td>\n",
       "      <td>1.02</td>\n",
       "      <td>0.25</td>\n",
       "      <td>0.17</td>\n",
       "      <td>0.59</td>\n",
       "      <td>0.08</td>\n",
       "      <td>...</td>\n",
       "      <td>0.000</td>\n",
       "      <td>0.065</td>\n",
       "      <td>0.0</td>\n",
       "      <td>0.408</td>\n",
       "      <td>0.118</td>\n",
       "      <td>0.013</td>\n",
       "      <td>7.55</td>\n",
       "      <td>669</td>\n",
       "      <td>1412</td>\n",
       "      <td>1</td>\n",
       "    </tr>\n",
       "    <tr>\n",
       "      <th>1</th>\n",
       "      <td>0.00</td>\n",
       "      <td>0.00</td>\n",
       "      <td>0.00</td>\n",
       "      <td>0.0</td>\n",
       "      <td>0.00</td>\n",
       "      <td>0.00</td>\n",
       "      <td>0.00</td>\n",
       "      <td>0.00</td>\n",
       "      <td>0.00</td>\n",
       "      <td>0.00</td>\n",
       "      <td>...</td>\n",
       "      <td>0.000</td>\n",
       "      <td>0.000</td>\n",
       "      <td>0.0</td>\n",
       "      <td>0.000</td>\n",
       "      <td>0.000</td>\n",
       "      <td>0.000</td>\n",
       "      <td>1.00</td>\n",
       "      <td>1</td>\n",
       "      <td>5</td>\n",
       "      <td>0</td>\n",
       "    </tr>\n",
       "    <tr>\n",
       "      <th>2</th>\n",
       "      <td>0.00</td>\n",
       "      <td>0.00</td>\n",
       "      <td>0.00</td>\n",
       "      <td>0.0</td>\n",
       "      <td>0.00</td>\n",
       "      <td>1.40</td>\n",
       "      <td>0.00</td>\n",
       "      <td>0.00</td>\n",
       "      <td>0.00</td>\n",
       "      <td>0.00</td>\n",
       "      <td>...</td>\n",
       "      <td>0.000</td>\n",
       "      <td>0.240</td>\n",
       "      <td>0.0</td>\n",
       "      <td>0.963</td>\n",
       "      <td>0.000</td>\n",
       "      <td>0.000</td>\n",
       "      <td>3.80</td>\n",
       "      <td>17</td>\n",
       "      <td>57</td>\n",
       "      <td>1</td>\n",
       "    </tr>\n",
       "    <tr>\n",
       "      <th>3</th>\n",
       "      <td>0.00</td>\n",
       "      <td>0.00</td>\n",
       "      <td>0.00</td>\n",
       "      <td>0.0</td>\n",
       "      <td>0.00</td>\n",
       "      <td>0.00</td>\n",
       "      <td>0.00</td>\n",
       "      <td>0.00</td>\n",
       "      <td>0.00</td>\n",
       "      <td>0.00</td>\n",
       "      <td>...</td>\n",
       "      <td>0.305</td>\n",
       "      <td>0.611</td>\n",
       "      <td>0.0</td>\n",
       "      <td>1.529</td>\n",
       "      <td>0.000</td>\n",
       "      <td>0.000</td>\n",
       "      <td>5.50</td>\n",
       "      <td>22</td>\n",
       "      <td>66</td>\n",
       "      <td>1</td>\n",
       "    </tr>\n",
       "  </tbody>\n",
       "</table>\n",
       "<p>4 rows × 58 columns</p>\n",
       "</div>"
      ],
      "text/plain": [
       "   word_freq_make  word_freq_address  word_freq_all  word_freq_3d  \\\n",
       "0            0.08               0.08           0.76           0.0   \n",
       "1            0.00               0.00           0.00           0.0   \n",
       "2            0.00               0.00           0.00           0.0   \n",
       "3            0.00               0.00           0.00           0.0   \n",
       "\n",
       "   word_freq_our  word_freq_over  word_freq_remove  word_freq_internet  \\\n",
       "0           0.85            1.02              0.25                0.17   \n",
       "1           0.00            0.00              0.00                0.00   \n",
       "2           0.00            1.40              0.00                0.00   \n",
       "3           0.00            0.00              0.00                0.00   \n",
       "\n",
       "   word_freq_order  word_freq_mail  ...  char_freq_;  char_freq_(  \\\n",
       "0             0.59            0.08  ...        0.000        0.065   \n",
       "1             0.00            0.00  ...        0.000        0.000   \n",
       "2             0.00            0.00  ...        0.000        0.240   \n",
       "3             0.00            0.00  ...        0.305        0.611   \n",
       "\n",
       "   char_freq_[  char_freq_!  char_freq_$  char_freq_#  \\\n",
       "0          0.0        0.408        0.118        0.013   \n",
       "1          0.0        0.000        0.000        0.000   \n",
       "2          0.0        0.963        0.000        0.000   \n",
       "3          0.0        1.529        0.000        0.000   \n",
       "\n",
       "   capital_run_length_average  capital_run_length_longest  \\\n",
       "0                        7.55                         669   \n",
       "1                        1.00                           1   \n",
       "2                        3.80                          17   \n",
       "3                        5.50                          22   \n",
       "\n",
       "   capital_run_length_total  target  \n",
       "0                      1412       1  \n",
       "1                         5       0  \n",
       "2                        57       1  \n",
       "3                        66       1  \n",
       "\n",
       "[4 rows x 58 columns]"
      ]
     },
     "metadata": {},
     "output_type": "display_data"
    }
   ],
   "source": [
    "df = read_file('../Data/spambase.data', '../Data/spambase_columns.csv')\n",
    "display(df.head(n=4))"
   ]
  },
  {
   "cell_type": "code",
   "execution_count": 3,
   "metadata": {},
   "outputs": [
    {
     "name": "stdout",
     "output_type": "stream",
     "text": [
      "train dimensions: (3680, 57)\n",
      "test dimensions: (921, 57)\n"
     ]
    }
   ],
   "source": [
    "X_train, X_test, y_train, y_test = split_data(df, porportion=0.2)"
   ]
  },
  {
   "cell_type": "markdown",
   "metadata": {},
   "source": [
    "$$P(x_i|C_j) = N(x_i;\\mu_{i,c_j}, \\sigma_{i,c_j}),\\space where\\space N(x;\\mu, \\sigma) = 1/(\\sqrt{2\\pi}\\sigma)e^{-((x-\\mu)^2 / 2\\sigma^2)}$$\n",
    "\n",
    "$$class_{NB}(X) = argmax\\space log[P(class)\\space\\Pi\\space P(x_i|class)]$$\n",
    "\n",
    "$$= argmax[log{P(class)}\\space + log{P(x_1|class)} + ... + log{P(x_n|class)}]$$"
   ]
  },
  {
   "cell_type": "code",
   "execution_count": 4,
   "metadata": {},
   "outputs": [
    {
     "name": "stdout",
     "output_type": "stream",
     "text": [
      "(1471, 57) Spam prior probability: 0.3997282608695652\n",
      "(2209, 57) Not_Spam prior probability: 0.6002717391304347\n"
     ]
    }
   ],
   "source": [
    "prior = Prior_Bayes(X_train, y_train)"
   ]
  },
  {
   "cell_type": "code",
   "execution_count": 5,
   "metadata": {},
   "outputs": [
    {
     "data": {
      "text/html": [
       "<div>\n",
       "<style scoped>\n",
       "    .dataframe tbody tr th:only-of-type {\n",
       "        vertical-align: middle;\n",
       "    }\n",
       "\n",
       "    .dataframe tbody tr th {\n",
       "        vertical-align: top;\n",
       "    }\n",
       "\n",
       "    .dataframe thead th {\n",
       "        text-align: right;\n",
       "    }\n",
       "</style>\n",
       "<table border=\"1\" class=\"dataframe\">\n",
       "  <thead>\n",
       "    <tr style=\"text-align: right;\">\n",
       "      <th></th>\n",
       "      <th>Predicted Spam</th>\n",
       "      <th>Predicted Non_Spam</th>\n",
       "    </tr>\n",
       "  </thead>\n",
       "  <tbody>\n",
       "    <tr>\n",
       "      <th>Actual Spam</th>\n",
       "      <td>TP</td>\n",
       "      <td>FN</td>\n",
       "    </tr>\n",
       "    <tr>\n",
       "      <th>Actual Non_Spam</th>\n",
       "      <td>FP</td>\n",
       "      <td>TN</td>\n",
       "    </tr>\n",
       "  </tbody>\n",
       "</table>\n",
       "</div>"
      ],
      "text/plain": [
       "                Predicted Spam Predicted Non_Spam\n",
       "Actual Spam                 TP                 FN\n",
       "Actual Non_Spam             FP                 TN"
      ]
     },
     "execution_count": 5,
     "metadata": {},
     "output_type": "execute_result"
    }
   ],
   "source": [
    "confusion_matrix_visual = pd.DataFrame([['TP', 'FN'], ['FP', 'TN']], index = [\"Actual Spam\",\"Actual Non_Spam\"], columns=['Predicted Spam', 'Predicted Non_Spam'] )\n",
    "confusion_matrix_visual"
   ]
  },
  {
   "cell_type": "code",
   "execution_count": 6,
   "metadata": {},
   "outputs": [
    {
     "name": "stdout",
     "output_type": "stream",
     "text": [
      "Accuracy: 0.7958740499457112 \n",
      "Error: 0.2041259500542888 \n",
      "Precision: 0.6521739130434783 \n",
      "Recall: 0.9649122807017544 \n"
     ]
    },
    {
     "data": {
      "text/html": [
       "<div>\n",
       "<style scoped>\n",
       "    .dataframe tbody tr th:only-of-type {\n",
       "        vertical-align: middle;\n",
       "    }\n",
       "\n",
       "    .dataframe tbody tr th {\n",
       "        vertical-align: top;\n",
       "    }\n",
       "\n",
       "    .dataframe thead th {\n",
       "        text-align: right;\n",
       "    }\n",
       "</style>\n",
       "<table border=\"1\" class=\"dataframe\">\n",
       "  <thead>\n",
       "    <tr style=\"text-align: right;\">\n",
       "      <th></th>\n",
       "      <th>Predicted Spam</th>\n",
       "      <th>Predicted Non_Spam</th>\n",
       "    </tr>\n",
       "  </thead>\n",
       "  <tbody>\n",
       "    <tr>\n",
       "      <th>Actual Spam</th>\n",
       "      <td>330.0</td>\n",
       "      <td>12.0</td>\n",
       "    </tr>\n",
       "    <tr>\n",
       "      <th>Actual Non_Spam</th>\n",
       "      <td>176.0</td>\n",
       "      <td>403.0</td>\n",
       "    </tr>\n",
       "  </tbody>\n",
       "</table>\n",
       "</div>"
      ],
      "text/plain": [
       "                 Predicted Spam  Predicted Non_Spam\n",
       "Actual Spam               330.0                12.0\n",
       "Actual Non_Spam           176.0               403.0"
      ]
     },
     "execution_count": 6,
     "metadata": {},
     "output_type": "execute_result"
    }
   ],
   "source": [
    "# K is laplase variation of smoothing, higher K, better the accuracy, up to 89 % # K = 2300*57 \n",
    "# K = 0 no change\n",
    "confusion_values_k1 = Naive_Bayes(X_test, X_train, y_test, y_train, prior, K=0)\n",
    "confusion_matrix1 = confusion_matrix_plot(confusion_values_k1)\n",
    "confusion_matrix1\n",
    "# Precision: TP / predicted positives\n",
    "# Recall/Sensitivity: TP/ actual positivies\n",
    "\n",
    "# We Want to maximize the precision so we correctly predict spam, wouldnt want to throw out an email that isnt spam\n",
    "# Recall is good, we arnt predicting very many FN's"
   ]
  },
  {
   "cell_type": "code",
   "execution_count": 7,
   "metadata": {},
   "outputs": [
    {
     "name": "stdout",
     "output_type": "stream",
     "text": [
      "Accuracy: 0.8306188925081434 \n",
      "Error: 0.16938110749185664 \n",
      "Precision: 0.7048458149779736 \n",
      "Recall: 0.935672514619883 \n"
     ]
    },
    {
     "data": {
      "text/html": [
       "<div>\n",
       "<style scoped>\n",
       "    .dataframe tbody tr th:only-of-type {\n",
       "        vertical-align: middle;\n",
       "    }\n",
       "\n",
       "    .dataframe tbody tr th {\n",
       "        vertical-align: top;\n",
       "    }\n",
       "\n",
       "    .dataframe thead th {\n",
       "        text-align: right;\n",
       "    }\n",
       "</style>\n",
       "<table border=\"1\" class=\"dataframe\">\n",
       "  <thead>\n",
       "    <tr style=\"text-align: right;\">\n",
       "      <th></th>\n",
       "      <th>Predicted Spam</th>\n",
       "      <th>Predicted Non_Spam</th>\n",
       "    </tr>\n",
       "  </thead>\n",
       "  <tbody>\n",
       "    <tr>\n",
       "      <th>Actual Spam</th>\n",
       "      <td>320.0</td>\n",
       "      <td>22.0</td>\n",
       "    </tr>\n",
       "    <tr>\n",
       "      <th>Actual Non_Spam</th>\n",
       "      <td>134.0</td>\n",
       "      <td>445.0</td>\n",
       "    </tr>\n",
       "  </tbody>\n",
       "</table>\n",
       "</div>"
      ],
      "text/plain": [
       "                 Predicted Spam  Predicted Non_Spam\n",
       "Actual Spam               320.0                22.0\n",
       "Actual Non_Spam           134.0               445.0"
      ]
     },
     "execution_count": 7,
     "metadata": {},
     "output_type": "execute_result"
    }
   ],
   "source": [
    "# K = 10 small change\n",
    "confusion_values_k2 = Naive_Bayes(X_test, X_train, y_test, y_train, prior, K=10)\n",
    "confusion_matrix2 = confusion_matrix_plot(confusion_values_k2)\n",
    "confusion_matrix2"
   ]
  },
  {
   "cell_type": "code",
   "execution_count": 8,
   "metadata": {},
   "outputs": [
    {
     "name": "stdout",
     "output_type": "stream",
     "text": [
      "Accuracy: 0.8979370249728555 \n",
      "Error: 0.10206297502714445 \n",
      "Precision: 0.8875 \n",
      "Recall: 0.8304093567251462 \n"
     ]
    },
    {
     "data": {
      "text/html": [
       "<div>\n",
       "<style scoped>\n",
       "    .dataframe tbody tr th:only-of-type {\n",
       "        vertical-align: middle;\n",
       "    }\n",
       "\n",
       "    .dataframe tbody tr th {\n",
       "        vertical-align: top;\n",
       "    }\n",
       "\n",
       "    .dataframe thead th {\n",
       "        text-align: right;\n",
       "    }\n",
       "</style>\n",
       "<table border=\"1\" class=\"dataframe\">\n",
       "  <thead>\n",
       "    <tr style=\"text-align: right;\">\n",
       "      <th></th>\n",
       "      <th>Predicted Spam</th>\n",
       "      <th>Predicted Non_Spam</th>\n",
       "    </tr>\n",
       "  </thead>\n",
       "  <tbody>\n",
       "    <tr>\n",
       "      <th>Actual Spam</th>\n",
       "      <td>284.0</td>\n",
       "      <td>58.0</td>\n",
       "    </tr>\n",
       "    <tr>\n",
       "      <th>Actual Non_Spam</th>\n",
       "      <td>36.0</td>\n",
       "      <td>543.0</td>\n",
       "    </tr>\n",
       "  </tbody>\n",
       "</table>\n",
       "</div>"
      ],
      "text/plain": [
       "                 Predicted Spam  Predicted Non_Spam\n",
       "Actual Spam               284.0                58.0\n",
       "Actual Non_Spam            36.0               543.0"
      ]
     },
     "execution_count": 8,
     "metadata": {},
     "output_type": "execute_result"
    }
   ],
   "source": [
    "# K = 10**10 large change\n",
    "confusion_values_k3 = Naive_Bayes(X_test, X_train, y_test, y_train, prior, K=10**10)\n",
    "confusion_matrix3 = confusion_matrix_plot(confusion_values_k3)\n",
    "confusion_matrix3\n",
    "# the accuracy and the precision significantly goes up but the recall slightly goes down "
   ]
  }
 ],
 "metadata": {
  "kernelspec": {
   "display_name": "Python 3.9.7 ('base')",
   "language": "python",
   "name": "python3"
  },
  "language_info": {
   "codemirror_mode": {
    "name": "ipython",
    "version": 3
   },
   "file_extension": ".py",
   "mimetype": "text/x-python",
   "name": "python",
   "nbconvert_exporter": "python",
   "pygments_lexer": "ipython3",
   "version": "3.9.12"
  },
  "orig_nbformat": 4,
  "vscode": {
   "interpreter": {
    "hash": "829c3b8be07045a118e2051d32961b742b1ec2887b2f995a302577c84815eb30"
   }
  }
 },
 "nbformat": 4,
 "nbformat_minor": 2
}
